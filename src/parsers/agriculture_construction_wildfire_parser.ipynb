{
 "cells": [
  {
   "cell_type": "code",
   "execution_count": 1,
   "metadata": {},
   "outputs": [],
   "source": [
    "import pandas as pd\n",
    "from docx import Document\n",
    "import os"
   ]
  },
  {
   "cell_type": "markdown",
   "metadata": {},
   "source": [
    "# Agriculture + Buildings"
   ]
  },
  {
   "cell_type": "code",
   "execution_count": 2,
   "metadata": {},
   "outputs": [],
   "source": [
    "def rename_region_data_files(path):\n",
    "    files = os.listdir(path)\n",
    "\n",
    "    for filename in files:\n",
    "        if filename.endswith('.docx'):\n",
    "            new_name = filename.split('_', 1)[-1].replace(' .docx', '.docx')\n",
    "            old_file = os.path.join(path, filename)\n",
    "            new_file = os.path.join(path, new_name)\n",
    "            os.rename(old_file, new_file)\n",
    "            print(f'Renamed: {filename} to {new_name}')"
   ]
  },
  {
   "cell_type": "code",
   "execution_count": 3,
   "metadata": {},
   "outputs": [],
   "source": [
    "def extract_table_from_docx(folder_path: str, filename: str, first_batch: bool) -> pd.DataFrame:\n",
    "    file_path = f\"{folder_path}/{filename}.docx\"\n",
    "    doc = Document(file_path)\n",
    "    \n",
    "    tables = []\n",
    "    for table in doc.tables:\n",
    "        table_data = [[cell.text.strip() for cell in row.cells] for row in table.rows]\n",
    "        \n",
    "        if len(table_data) > 1:\n",
    "            df = pd.DataFrame(table_data[1:], columns=table_data[0])\n",
    "            df.set_index(df.columns[0], inplace=True)\n",
    "            df = df.applymap(lambda x: x.replace(\"\\n\", \"\").replace(\"\\t\", \"\") if isinstance(x, str) else x)\n",
    "            df.index = df.index.map(lambda x: x.replace(\"\\n\", \"\").replace(\"\\t\", \"\") if isinstance(x, str) else x)\n",
    "            tables.append(df)\n",
    "    \n",
    "    related_columns = [\n",
    "        'Посевная площадь всех сельскохозяйственных культур в хозяйствах всех категорий, тыс. га',\n",
    "        'зерновые и зернобобовые культуры', 'картофель и овощебахчевые культуры', 'кормовые культуры',\n",
    "        'крупный рогатый скот', 'в том числе коровы', 'свиньи', 'овцы и козы',\n",
    "        'зерно (в весе после доработки)', 'картофель', 'овощи',\n",
    "        'скот и птица на убой (в убойном весе)', 'молоко', 'яйца, млн шт.',\n",
    "        'Объем работ, выполненных по виду деятельности «Строительство» (в фактически действовавших ценах), млн руб.',\n",
    "        'Индекс физического объема работ, выполненных по виду деятельности «Строительство», в процентах к предыдущему году',\n",
    "        'Ввод в действие жилых домов, тыс. м2 общей площади жилых помещений'\n",
    "    ]\n",
    "\n",
    "    updated_columns = [\n",
    "        'Посевная площадь всех сельскохозяйственных культур в хозяйствах всех категорий, тыс. га',\n",
    "        'зерновые и зернобобовые культуры, тыс. га', \n",
    "        'картофель и овощебахчевые культуры, тыс. га', 'кормовые культуры, тыс. га',\n",
    "        'крупный рогатый скот, тыс. голов', 'коровы, тыс. голов', 'свиньи, тыс. голов', 'овцы и козы, тыс. голов',\n",
    "        'зерно (в весе после доработки), тыс. т', 'картофель, тыс. т', 'овощи, тыс. т',\n",
    "        'скот и птица на убой (в убойном весе)', 'молоко', 'яйца, млн шт.',\n",
    "        'Объем работ, выполненных по виду деятельности «Строительство» (в фактически действовавших ценах), млн руб.',\n",
    "        'Индекс физического объема работ, выполненных по виду деятельности «Строительство», в процентах к предыдущему году',\n",
    "        'Ввод в действие жилых домов, тыс. м2 общей площади жилых помещений'\n",
    "    ]\n",
    "    \n",
    "    year_until = '2014' if first_batch else '2020'\n",
    "    \n",
    "    df = pd.concat([tables[5], tables[6]])\n",
    "    df.index = df.index.map(lambda index: index.replace(',', ', ').replace('  ', ' ').replace('млн.', 'млн'))\n",
    "    df = df.loc[related_columns, [year for year in df.columns if year > year_until]]\n",
    "    df.index = updated_columns\n",
    "    df = df.T\n",
    "    df['region'] = filename\n",
    "    df.set_index('region', append=True, inplace=True)\n",
    "\n",
    "    return df"
   ]
  },
  {
   "cell_type": "code",
   "execution_count": 6,
   "metadata": {},
   "outputs": [],
   "source": [
    "def get_regional_data(year:str):\n",
    "    folder_path = f'/Users/mansagliev/Downloads/project_data/extracted_files/Region_Subekt_{year}/1_Центральный фо'\n",
    "    df = pd.DataFrame()\n",
    "\n",
    "    for region in os.listdir(folder_path):\n",
    "        if region != 'Центральный фо.docx':\n",
    "            try:\n",
    "                region = region.replace('.docx','')\n",
    "                df = pd.concat([df, extract_table_from_docx(folder_path, region, year=='2021')])\n",
    "            except:\n",
    "                print(f'Error processing {region}')\n",
    "\n",
    "    df = df.sort_index()\n",
    "    return df\n"
   ]
  },
  {
   "cell_type": "code",
   "execution_count": null,
   "metadata": {},
   "outputs": [],
   "source": [
    "agriculture_and_building = pd.concat([get_regional_data('2021'), get_regional_data('2023')])"
   ]
  },
  {
   "cell_type": "code",
   "execution_count": 8,
   "metadata": {},
   "outputs": [],
   "source": [
    "agriculture_and_building.to_excel('agriculture_and_building.xlsx')"
   ]
  },
  {
   "cell_type": "markdown",
   "metadata": {},
   "source": [
    "# Forest fire area"
   ]
  },
  {
   "cell_type": "code",
   "execution_count": 191,
   "metadata": {},
   "outputs": [],
   "source": [
    "def preprocess_forest_fire_area(path:str):\n",
    "    '''\n",
    "    Preprocess forest fire area data, from .xls format to pandas dataframe\n",
    "    '''\n",
    "\n",
    "    fire_area = pd.read_excel(path)\n",
    "    df = fire_area.T[1:].reset_index()\n",
    "    df['index'] = df['index'].apply(lambda x: str(x).split('.')[0])\n",
    "\n",
    "    columns = ['Year', 'Quarter'] + list(fire_area['Unnamed: 0'].dropna().apply(lambda x: x.strip()))\n",
    "    df.columns = columns\n",
    "\n",
    "    result = df.set_index(['Year','Quarter']).T\n",
    "\n",
    "    return result"
   ]
  },
  {
   "cell_type": "code",
   "execution_count": 193,
   "metadata": {},
   "outputs": [],
   "source": [
    "forest_fire_area = preprocess_forest_fire_area('forest_fire_area.xls')\n",
    "forest_fire_area.to_excel('forest_fire_area.xlsx')"
   ]
  }
 ],
 "metadata": {
  "kernelspec": {
   "display_name": "base",
   "language": "python",
   "name": "python3"
  },
  "language_info": {
   "codemirror_mode": {
    "name": "ipython",
    "version": 3
   },
   "file_extension": ".py",
   "mimetype": "text/x-python",
   "name": "python",
   "nbconvert_exporter": "python",
   "pygments_lexer": "ipython3",
   "version": "3.11.5"
  }
 },
 "nbformat": 4,
 "nbformat_minor": 2
}
